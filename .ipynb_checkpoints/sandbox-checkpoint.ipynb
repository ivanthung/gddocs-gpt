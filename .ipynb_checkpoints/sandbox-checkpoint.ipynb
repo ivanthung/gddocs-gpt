{
 "cells": [
  {
   "cell_type": "code",
   "execution_count": 2,
   "id": "38635ecb",
   "metadata": {},
   "outputs": [
    {
     "name": "stdout",
     "output_type": "stream",
     "text": [
      "The autoreload extension is already loaded. To reload it, use:\n",
      "  %reload_ext autoreload\n"
     ]
    }
   ],
   "source": [
    "%load_ext autoreload\n",
    "%autoreload 2"
   ]
  },
  {
   "cell_type": "code",
   "execution_count": 3,
   "id": "5fdafe3e",
   "metadata": {},
   "outputs": [],
   "source": [
    "import difflib"
   ]
  },
  {
   "cell_type": "code",
   "execution_count": 15,
   "id": "684a7203",
   "metadata": {},
   "outputs": [
    {
     "ename": "ModuleNotFoundError",
     "evalue": "No module named 'aihandler'",
     "output_type": "error",
     "traceback": [
      "\u001b[0;31m---------------------------------------------------------------------------\u001b[0m",
      "\u001b[0;31mModuleNotFoundError\u001b[0m                       Traceback (most recent call last)",
      "Cell \u001b[0;32mIn[15], line 7\u001b[0m\n\u001b[1;32m      5\u001b[0m \u001b[38;5;28;01mfrom\u001b[39;00m \u001b[38;5;21;01mutils\u001b[39;00m\u001b[38;5;21;01m.\u001b[39;00m\u001b[38;5;21;01mpostrequests\u001b[39;00m \u001b[38;5;28;01mimport\u001b[39;00m create_insert_request, create_deletion_request, create_styling_request\n\u001b[1;32m      6\u001b[0m \u001b[38;5;28;01mfrom\u001b[39;00m \u001b[38;5;21;01mutils\u001b[39;00m\u001b[38;5;21;01m.\u001b[39;00m\u001b[38;5;21;01mdiffhandler\u001b[39;00m \u001b[38;5;28;01mimport\u001b[39;00m create_color_indexes, get_difference\n\u001b[0;32m----> 7\u001b[0m \u001b[38;5;28;01mfrom\u001b[39;00m \u001b[38;5;21;01maihandler\u001b[39;00m \u001b[38;5;28;01mimport\u001b[39;00m get_copy_edit\n",
      "\u001b[0;31mModuleNotFoundError\u001b[0m: No module named 'aihandler'"
     ]
    }
   ],
   "source": [
    "import re\n",
    "from utils.googledocs import get_doc, get_paragraphs, get_paragraphs_with_index, get_documentid\n",
    "from utils.googledocs import read_structural_elements, read_paragraph_element\n",
    "from utils.googledocs import update_document\n",
    "from utils.postrequests import create_insert_request, create_deletion_request, create_styling_request\n",
    "from utils.diffhandler import create_color_indexes, get_difference\n",
    "from aihandler import get_copy_edit"
   ]
  },
  {
   "cell_type": "code",
   "execution_count": 7,
   "id": "759ba344",
   "metadata": {},
   "outputs": [],
   "source": [
    "doc_url = 'https://docs.google.com/document/d/1JD7mIqhSL78gsxtGmBTL3T9ErCXSGlknrPdZVHd0cWA/edit#'\n",
    "document_id = get_documentid(doc_url)"
   ]
  },
  {
   "cell_type": "code",
   "execution_count": 69,
   "id": "8b44fa3f",
   "metadata": {},
   "outputs": [],
   "source": [
    "# TODO - integrate in a streamlit app.\n",
    "\n",
    "###### PRACTICAL and ERROR HANDELING ######\n",
    "# TODO: Replace remove and edit paragraph with replaceText para\n",
    "# See: https://developers.google.com/docs/api/reference/rest/v1/documents/request#replacealltextrequest\n",
    "# TODO: Problem may arise when a paragraph ends with an endline character. Handle that excpetion in the create_deletion request function.\n",
    "# See: https://developers.google.com/docs/api/concepts/rules-behavior#deleting_text"
   ]
  },
  {
   "cell_type": "markdown",
   "id": "5190c4eb",
   "metadata": {},
   "source": [
    "## Replace a paragraph with a slightly different paragraph"
   ]
  },
  {
   "cell_type": "code",
   "execution_count": 9,
   "id": "da3b3790",
   "metadata": {},
   "outputs": [],
   "source": [
    "different_para =\\\n",
    "'\"et accusamus et iusto odio dignissimos ducimus d blanditiis praesentium bleeeh deleniti atque corrupti quos dolores et quas molestias excepturi sint occaecati cupiditate non provident, similique sunt in culpa qui officia deserunt mollitia animi, id est laborum et dolorum fuga. Et harum quidem rerum facilis est et expedita distinctio. Nam libero tempore, cum soluta nobis est eligendi optio cumque nihil impedit quo minus id quod maxime placeat facere possimus, omnis voluptas assumenda est, omnis dolor repellendus. Temporibus autem quibusdam et aut officiis debitis aut rerum necessitatibus saepe eveniet ut et voluptates repudiandae sint et molestiae non recusandae. Itaque earum rerum hic tenetur a sapiente delectus, ut aut reiciendis voluptatibus maiores alias consequatur aut perferendis doloribus asperiores repellat.\"\\n'\n",
    "\n",
    "original_para =\\\n",
    "'\"et accusamus et iusto odio qui blanditiis praesentium text sdfsdf voluptatum deleniti some other shit atque corrupti quos dolores et quas molestias excepturi sint occaecati cupiditate non provident, similique. A point here sunt in culpa qui officia deserunt mollitia animi, id est laborum et dolorum fuga. Et harum quidem rerum facilis est et expedita distinctio. Nam libero tempore, cum soluta nobis est eligendi optio cumque nihil impedit quo minus id quod maxime placeat facere possimus, omnis voluptas assumenda est, omnis dolor repellendus. Temporibus autem quibusdam et aut officiis debitis aut rerum necessitatibus saepe eveniet ut et voluptates repudiandae sint et molestiae non recusandae. Itaque earum rerum hic tenetur a sapiente delectus, ut aut reiciendis voluptatibus maiores alias consequatur aut perferendis doloribus asperiores repellat.\"\\n'"
   ]
  },
  {
   "cell_type": "code",
   "execution_count": 10,
   "id": "c3d66afc",
   "metadata": {},
   "outputs": [],
   "source": [
    "def replace_para(paragraph_object, replacement):\n",
    "    '''\n",
    "    Replaces paragraph object at the same index as where it originally started\n",
    "    Make sure that your text includes an '\\n' at the end to ensure a new paragraph will start.\n",
    "    '''\n",
    "    paragraph_range = paragraph_object['range']\n",
    "    delete = create_deletion_request(paragraph_range)\n",
    "    insert = create_insert_request(paragraph_range.get('startIndex'), replacement)\n",
    "    update_document(document_id, [delete])\n",
    "    update_document(document_id, [insert])"
   ]
  },
  {
   "cell_type": "markdown",
   "id": "4c926165",
   "metadata": {},
   "source": [
    "## Creating a paragraph with revisions"
   ]
  },
  {
   "cell_type": "code",
   "execution_count": 12,
   "id": "45f0de0c",
   "metadata": {},
   "outputs": [
    {
     "name": "stdout",
     "output_type": "stream",
     "text": [
      "The title of the document is: Testing suggestions\n",
      "success\n",
      "success\n",
      "The title of the document is: Testing suggestions\n",
      "success\n"
     ]
    }
   ],
   "source": [
    "# Loading document and replace paragraphs\n",
    "document = get_doc(document_id)\n",
    "paragraphs = get_paragraphs_with_index(document)\n",
    "\n",
    "para_index_to_edit = -2\n",
    "para_to_edit = paragraphs[para_index_to_edit]\n",
    "\n",
    "replace_para(para_to_edit, different_para)\n",
    "\n",
    "# re-load document to get updated indexes, and apply color. \n",
    "document = get_doc(document_id)\n",
    "paragraphs = get_paragraphs_with_index(document)\n",
    "edited_para = paragraphs[para_index_to_edit]\n",
    "\n",
    "diff = get_difference(para_to_edit['text'], edited_para['text'])\n",
    "start = edited_para['range'].get('startIndex')\n",
    "styles = [create_styling_request(s[0]+start, s[1]+start) for s in create_color_indexes(diff)]\n",
    "\n",
    "# Update document with styles\n",
    "update_document(document_id, styles)"
   ]
  }
 ],
 "metadata": {
  "kernelspec": {
   "display_name": "Python 3 (ipykernel)",
   "language": "python",
   "name": "python3"
  },
  "language_info": {
   "codemirror_mode": {
    "name": "ipython",
    "version": 3
   },
   "file_extension": ".py",
   "mimetype": "text/x-python",
   "name": "python",
   "nbconvert_exporter": "python",
   "pygments_lexer": "ipython3",
   "version": "3.10.6"
  },
  "toc": {
   "base_numbering": 1,
   "nav_menu": {},
   "number_sections": true,
   "sideBar": true,
   "skip_h1_title": false,
   "title_cell": "Table of Contents",
   "title_sidebar": "Contents",
   "toc_cell": false,
   "toc_position": {},
   "toc_section_display": true,
   "toc_window_display": false
  }
 },
 "nbformat": 4,
 "nbformat_minor": 5
}
