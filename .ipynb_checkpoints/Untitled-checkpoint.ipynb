{
 "cells": [
  {
   "cell_type": "code",
   "execution_count": 62,
   "id": "1fbaf9bb",
   "metadata": {},
   "outputs": [],
   "source": [
    "%load_ext autoreload\n",
    "%autoreload 2"
   ]
  },
  {
   "cell_type": "code",
   "execution_count": 48,
   "id": "91273c9d",
   "metadata": {},
   "outputs": [],
   "source": [
    "from pprint import pprint\n",
    "import utils.google_docs as gd"
   ]
  },
  {
   "cell_type": "code",
   "execution_count": 4,
   "id": "f2b884de",
   "metadata": {},
   "outputs": [
    {
     "name": "stdout",
     "output_type": "stream",
     "text": [
      "Please visit this URL to authorize this application: https://accounts.google.com/o/oauth2/auth?response_type=code&client_id=9363830405-67juoardipbcnoplicq9rqcnsfm4te3v.apps.googleusercontent.com&redirect_uri=http%3A%2F%2Flocalhost%3A61148%2F&scope=https%3A%2F%2Fwww.googleapis.com%2Fauth%2Fdocuments&state=IHi3B60LNTFB92Q5KjRtjf19C0a1bD&access_type=offline\n"
     ]
    }
   ],
   "source": [
    "gd.authorize(\"write\")"
   ]
  },
  {
   "cell_type": "code",
   "execution_count": 39,
   "id": "7ea744a8",
   "metadata": {},
   "outputs": [
    {
     "name": "stdout",
     "output_type": "stream",
     "text": [
      "The title of the document is: Testing headers and formatting\n"
     ]
    }
   ],
   "source": [
    "doc_url = 'https://docs.google.com/document/d/16JJaKTIVs5_vVh1sEWYuwnJ6b9epJPyDNJ-FDT1kw7c/edit#'\n",
    "document_id = gd.get_documentid(doc_url)\n",
    "doc = gd.get_doc(document_id)"
   ]
  },
  {
   "cell_type": "code",
   "execution_count": 15,
   "id": "0a2e103a",
   "metadata": {
    "collapsed": true
   },
   "outputs": [
    {
     "data": {
      "text/plain": [
       "dict_items([('title', 'Testing headers and formatting'), ('body', {'content': [{'endIndex': 1, 'sectionBreak': {'sectionStyle': {'columnSeparatorStyle': 'NONE', 'contentDirection': 'LEFT_TO_RIGHT', 'sectionType': 'CONTINUOUS'}}}, {'startIndex': 1, 'endIndex': 36, 'paragraph': {'elements': [{'startIndex': 1, 'endIndex': 36, 'textRun': {'content': 'Conclusions system analysis report\\n', 'textStyle': {}}}], 'paragraphStyle': {'headingId': 'h.e77qt4ez1qmw', 'namedStyleType': 'TITLE', 'direction': 'LEFT_TO_RIGHT'}}}, {'startIndex': 36, 'endIndex': 155, 'paragraph': {'elements': [{'startIndex': 36, 'endIndex': 155, 'textRun': {'content': 'The two main most ambitious versions for a circular vision for the construction industry would comprise the following.\\n', 'textStyle': {}}}], 'paragraphStyle': {'namedStyleType': 'NORMAL_TEXT', 'direction': 'LEFT_TO_RIGHT'}}}, {'startIndex': 155, 'endIndex': 156, 'paragraph': {'elements': [{'startIndex': 155, 'endIndex': 156, 'textRun': {'content': '\\n', 'textStyle': {}}}], 'paragraphStyle': {'namedStyleType': 'NORMAL_TEXT', 'direction': 'LEFT_TO_RIGHT'}}}, {'startIndex': 156, 'endIndex': 168, 'paragraph': {'elements': [{'startIndex': 156, 'endIndex': 168, 'textRun': {'content': 'Bold header\\n', 'textStyle': {'bold': True}}}], 'paragraphStyle': {'namedStyleType': 'NORMAL_TEXT', 'direction': 'LEFT_TO_RIGHT'}}}, {'startIndex': 168, 'endIndex': 211, 'paragraph': {'elements': [{'startIndex': 168, 'endIndex': 210, 'textRun': {'content': 'Normal text accompanying the bold header. ', 'textStyle': {}}}, {'startIndex': 210, 'endIndex': 211, 'textRun': {'content': '\\n', 'textStyle': {}}}], 'paragraphStyle': {'namedStyleType': 'NORMAL_TEXT', 'direction': 'LEFT_TO_RIGHT'}}}, {'startIndex': 211, 'endIndex': 246, 'paragraph': {'elements': [{'startIndex': 211, 'endIndex': 246, 'textRun': {'content': 'A zero-waste construction industry\\n', 'textStyle': {}}}], 'paragraphStyle': {'headingId': 'h.7gksm5bnvhlr', 'namedStyleType': 'HEADING_3', 'direction': 'LEFT_TO_RIGHT'}}}, {'startIndex': 246, 'endIndex': 383, 'paragraph': {'elements': [{'startIndex': 246, 'endIndex': 383, 'textRun': {'content': 'In this vision, all waste generated during both the construction process and the end-of-life of buildings is eliminated through re-use. \\n', 'textStyle': {}}}], 'paragraphStyle': {'namedStyleType': 'NORMAL_TEXT', 'direction': 'LEFT_TO_RIGHT'}}}, {'startIndex': 383, 'endIndex': 398, 'paragraph': {'elements': [{'startIndex': 383, 'endIndex': 398, 'textRun': {'content': 'Bullet point 1\\n', 'textStyle': {}}}], 'paragraphStyle': {'namedStyleType': 'NORMAL_TEXT', 'direction': 'LEFT_TO_RIGHT', 'spacingMode': 'COLLAPSE_LISTS', 'indentFirstLine': {'magnitude': 18, 'unit': 'PT'}, 'indentStart': {'magnitude': 36, 'unit': 'PT'}}, 'bullet': {'listId': 'kix.s3uu8mow9td3', 'textStyle': {'underline': False}}}}, {'startIndex': 398, 'endIndex': 413, 'paragraph': {'elements': [{'startIndex': 398, 'endIndex': 413, 'textRun': {'content': 'Bullet point 2\\n', 'textStyle': {}}}], 'paragraphStyle': {'namedStyleType': 'NORMAL_TEXT', 'direction': 'LEFT_TO_RIGHT', 'spacingMode': 'COLLAPSE_LISTS', 'indentFirstLine': {'magnitude': 18, 'unit': 'PT'}, 'indentStart': {'magnitude': 36, 'unit': 'PT'}}, 'bullet': {'listId': 'kix.s3uu8mow9td3', 'textStyle': {'underline': False}}}}, {'startIndex': 413, 'endIndex': 428, 'paragraph': {'elements': [{'startIndex': 413, 'endIndex': 428, 'textRun': {'content': 'Bullet point 3\\n', 'textStyle': {}}}], 'paragraphStyle': {'namedStyleType': 'NORMAL_TEXT', 'direction': 'LEFT_TO_RIGHT', 'spacingMode': 'COLLAPSE_LISTS', 'indentFirstLine': {'magnitude': 18, 'unit': 'PT'}, 'indentStart': {'magnitude': 36, 'unit': 'PT'}}, 'bullet': {'listId': 'kix.s3uu8mow9td3', 'textStyle': {'underline': False}}}}, {'startIndex': 428, 'endIndex': 429, 'paragraph': {'elements': [{'startIndex': 428, 'endIndex': 429, 'textRun': {'content': '\\n', 'textStyle': {}}}], 'paragraphStyle': {'namedStyleType': 'NORMAL_TEXT', 'direction': 'LEFT_TO_RIGHT'}}}, {'startIndex': 429, 'endIndex': 430, 'paragraph': {'elements': [{'startIndex': 429, 'endIndex': 430, 'textRun': {'content': '\\n', 'textStyle': {}}}], 'paragraphStyle': {'namedStyleType': 'NORMAL_TEXT', 'direction': 'LEFT_TO_RIGHT'}}}]}), ('documentStyle', {'background': {'color': {}}, 'pageNumberStart': 1, 'marginTop': {'magnitude': 72, 'unit': 'PT'}, 'marginBottom': {'magnitude': 72, 'unit': 'PT'}, 'marginRight': {'magnitude': 72, 'unit': 'PT'}, 'marginLeft': {'magnitude': 72, 'unit': 'PT'}, 'pageSize': {'height': {'magnitude': 792, 'unit': 'PT'}, 'width': {'magnitude': 612, 'unit': 'PT'}}, 'marginHeader': {'magnitude': 36, 'unit': 'PT'}, 'marginFooter': {'magnitude': 36, 'unit': 'PT'}, 'useCustomHeaderFooterMargins': True}), ('namedStyles', {'styles': [{'namedStyleType': 'NORMAL_TEXT', 'textStyle': {'bold': False, 'italic': False, 'underline': False, 'strikethrough': False, 'smallCaps': False, 'backgroundColor': {}, 'foregroundColor': {'color': {'rgbColor': {}}}, 'fontSize': {'magnitude': 11, 'unit': 'PT'}, 'weightedFontFamily': {'fontFamily': 'Arial', 'weight': 400}, 'baselineOffset': 'NONE'}, 'paragraphStyle': {'namedStyleType': 'NORMAL_TEXT', 'alignment': 'START', 'lineSpacing': 115, 'direction': 'LEFT_TO_RIGHT', 'spacingMode': 'NEVER_COLLAPSE', 'spaceAbove': {'unit': 'PT'}, 'spaceBelow': {'unit': 'PT'}, 'borderBetween': {'color': {}, 'width': {'unit': 'PT'}, 'padding': {'unit': 'PT'}, 'dashStyle': 'SOLID'}, 'borderTop': {'color': {}, 'width': {'unit': 'PT'}, 'padding': {'unit': 'PT'}, 'dashStyle': 'SOLID'}, 'borderBottom': {'color': {}, 'width': {'unit': 'PT'}, 'padding': {'unit': 'PT'}, 'dashStyle': 'SOLID'}, 'borderLeft': {'color': {}, 'width': {'unit': 'PT'}, 'padding': {'unit': 'PT'}, 'dashStyle': 'SOLID'}, 'borderRight': {'color': {}, 'width': {'unit': 'PT'}, 'padding': {'unit': 'PT'}, 'dashStyle': 'SOLID'}, 'indentFirstLine': {'unit': 'PT'}, 'indentStart': {'unit': 'PT'}, 'indentEnd': {'unit': 'PT'}, 'keepLinesTogether': False, 'keepWithNext': False, 'avoidWidowAndOrphan': True, 'shading': {'backgroundColor': {}}, 'pageBreakBefore': False}}, {'namedStyleType': 'HEADING_1', 'textStyle': {'fontSize': {'magnitude': 20, 'unit': 'PT'}}, 'paragraphStyle': {'namedStyleType': 'NORMAL_TEXT', 'direction': 'LEFT_TO_RIGHT', 'spaceAbove': {'magnitude': 20, 'unit': 'PT'}, 'spaceBelow': {'magnitude': 6, 'unit': 'PT'}, 'keepLinesTogether': True, 'keepWithNext': True, 'pageBreakBefore': False}}, {'namedStyleType': 'HEADING_2', 'textStyle': {'bold': False, 'fontSize': {'magnitude': 16, 'unit': 'PT'}}, 'paragraphStyle': {'namedStyleType': 'NORMAL_TEXT', 'direction': 'LEFT_TO_RIGHT', 'spaceAbove': {'magnitude': 18, 'unit': 'PT'}, 'spaceBelow': {'magnitude': 6, 'unit': 'PT'}, 'keepLinesTogether': True, 'keepWithNext': True, 'pageBreakBefore': False}}, {'namedStyleType': 'HEADING_3', 'textStyle': {'bold': False, 'foregroundColor': {'color': {'rgbColor': {'red': 0.2627451, 'green': 0.2627451, 'blue': 0.2627451}}}, 'fontSize': {'magnitude': 14, 'unit': 'PT'}}, 'paragraphStyle': {'namedStyleType': 'NORMAL_TEXT', 'direction': 'LEFT_TO_RIGHT', 'spaceAbove': {'magnitude': 16, 'unit': 'PT'}, 'spaceBelow': {'magnitude': 4, 'unit': 'PT'}, 'keepLinesTogether': True, 'keepWithNext': True, 'pageBreakBefore': False}}, {'namedStyleType': 'HEADING_4', 'textStyle': {'foregroundColor': {'color': {'rgbColor': {'red': 0.4, 'green': 0.4, 'blue': 0.4}}}, 'fontSize': {'magnitude': 12, 'unit': 'PT'}}, 'paragraphStyle': {'namedStyleType': 'NORMAL_TEXT', 'direction': 'LEFT_TO_RIGHT', 'spaceAbove': {'magnitude': 14, 'unit': 'PT'}, 'spaceBelow': {'magnitude': 4, 'unit': 'PT'}, 'keepLinesTogether': True, 'keepWithNext': True, 'pageBreakBefore': False}}, {'namedStyleType': 'HEADING_5', 'textStyle': {'foregroundColor': {'color': {'rgbColor': {'red': 0.4, 'green': 0.4, 'blue': 0.4}}}, 'fontSize': {'magnitude': 11, 'unit': 'PT'}}, 'paragraphStyle': {'namedStyleType': 'NORMAL_TEXT', 'direction': 'LEFT_TO_RIGHT', 'spaceAbove': {'magnitude': 12, 'unit': 'PT'}, 'spaceBelow': {'magnitude': 4, 'unit': 'PT'}, 'keepLinesTogether': True, 'keepWithNext': True, 'pageBreakBefore': False}}, {'namedStyleType': 'HEADING_6', 'textStyle': {'italic': True, 'foregroundColor': {'color': {'rgbColor': {'red': 0.4, 'green': 0.4, 'blue': 0.4}}}, 'fontSize': {'magnitude': 11, 'unit': 'PT'}}, 'paragraphStyle': {'namedStyleType': 'NORMAL_TEXT', 'direction': 'LEFT_TO_RIGHT', 'spaceAbove': {'magnitude': 12, 'unit': 'PT'}, 'spaceBelow': {'magnitude': 4, 'unit': 'PT'}, 'keepLinesTogether': True, 'keepWithNext': True, 'pageBreakBefore': False}}, {'namedStyleType': 'TITLE', 'textStyle': {'fontSize': {'magnitude': 26, 'unit': 'PT'}}, 'paragraphStyle': {'namedStyleType': 'NORMAL_TEXT', 'direction': 'LEFT_TO_RIGHT', 'spaceAbove': {'unit': 'PT'}, 'spaceBelow': {'magnitude': 3, 'unit': 'PT'}, 'keepLinesTogether': True, 'keepWithNext': True, 'pageBreakBefore': False}}, {'namedStyleType': 'SUBTITLE', 'textStyle': {'italic': False, 'foregroundColor': {'color': {'rgbColor': {'red': 0.4, 'green': 0.4, 'blue': 0.4}}}, 'fontSize': {'magnitude': 15, 'unit': 'PT'}, 'weightedFontFamily': {'fontFamily': 'Arial', 'weight': 400}}, 'paragraphStyle': {'namedStyleType': 'NORMAL_TEXT', 'direction': 'LEFT_TO_RIGHT', 'spaceAbove': {'unit': 'PT'}, 'spaceBelow': {'magnitude': 16, 'unit': 'PT'}, 'keepLinesTogether': True, 'keepWithNext': True, 'pageBreakBefore': False}}]}), ('lists', {'kix.s3uu8mow9td3': {'listProperties': {'nestingLevels': [{'bulletAlignment': 'START', 'glyphSymbol': '●', 'glyphFormat': '%0', 'indentFirstLine': {'magnitude': 18, 'unit': 'PT'}, 'indentStart': {'magnitude': 36, 'unit': 'PT'}, 'textStyle': {'underline': False}, 'startNumber': 1}, {'bulletAlignment': 'START', 'glyphSymbol': '○', 'glyphFormat': '%1', 'indentFirstLine': {'magnitude': 54, 'unit': 'PT'}, 'indentStart': {'magnitude': 72, 'unit': 'PT'}, 'textStyle': {'underline': False}, 'startNumber': 1}, {'bulletAlignment': 'START', 'glyphSymbol': '■', 'glyphFormat': '%2', 'indentFirstLine': {'magnitude': 90, 'unit': 'PT'}, 'indentStart': {'magnitude': 108, 'unit': 'PT'}, 'textStyle': {'underline': False}, 'startNumber': 1}, {'bulletAlignment': 'START', 'glyphSymbol': '●', 'glyphFormat': '%3', 'indentFirstLine': {'magnitude': 126, 'unit': 'PT'}, 'indentStart': {'magnitude': 144, 'unit': 'PT'}, 'textStyle': {'underline': False}, 'startNumber': 1}, {'bulletAlignment': 'START', 'glyphSymbol': '○', 'glyphFormat': '%4', 'indentFirstLine': {'magnitude': 162, 'unit': 'PT'}, 'indentStart': {'magnitude': 180, 'unit': 'PT'}, 'textStyle': {'underline': False}, 'startNumber': 1}, {'bulletAlignment': 'START', 'glyphSymbol': '■', 'glyphFormat': '%5', 'indentFirstLine': {'magnitude': 198, 'unit': 'PT'}, 'indentStart': {'magnitude': 216, 'unit': 'PT'}, 'textStyle': {'underline': False}, 'startNumber': 1}, {'bulletAlignment': 'START', 'glyphSymbol': '●', 'glyphFormat': '%6', 'indentFirstLine': {'magnitude': 234, 'unit': 'PT'}, 'indentStart': {'magnitude': 252, 'unit': 'PT'}, 'textStyle': {'underline': False}, 'startNumber': 1}, {'bulletAlignment': 'START', 'glyphSymbol': '○', 'glyphFormat': '%7', 'indentFirstLine': {'magnitude': 270, 'unit': 'PT'}, 'indentStart': {'magnitude': 288, 'unit': 'PT'}, 'textStyle': {'underline': False}, 'startNumber': 1}, {'bulletAlignment': 'START', 'glyphSymbol': '■', 'glyphFormat': '%8', 'indentFirstLine': {'magnitude': 306, 'unit': 'PT'}, 'indentStart': {'magnitude': 324, 'unit': 'PT'}, 'textStyle': {'underline': False}, 'startNumber': 1}]}}}), ('revisionId', 'ABFxVSmGGiBcgCpwbTkeBKzvhfiLwQ0iDrbGpsY6G8HYPmGmKPmPOW9sPIdnGXm5dyz-xHtBDxLV-UBSr-ZkhA'), ('suggestionsViewMode', 'PREVIEW_SUGGESTIONS_ACCEPTED'), ('documentId', '16JJaKTIVs5_vVh1sEWYuwnJ6b9epJPyDNJ-FDT1kw7c')])"
      ]
     },
     "execution_count": 15,
     "metadata": {},
     "output_type": "execute_result"
    }
   ],
   "source": [
    "doc_items = doc.items()"
   ]
  },
  {
   "cell_type": "code",
   "execution_count": 17,
   "id": "71becaf4",
   "metadata": {},
   "outputs": [
    {
     "data": {
      "text/plain": [
       "dict_keys(['title', 'body', 'documentStyle', 'namedStyles', 'lists', 'revisionId', 'suggestionsViewMode', 'documentId'])"
      ]
     },
     "execution_count": 17,
     "metadata": {},
     "output_type": "execute_result"
    }
   ],
   "source": [
    "doc.keys()"
   ]
  },
  {
   "cell_type": "code",
   "execution_count": null,
   "id": "7980ef5e",
   "metadata": {},
   "outputs": [],
   "source": [
    "# Features 1. Store paragraph style somehwere. Apply paragraph style to startIndex and endIndex\n",
    "## Load paragraphs into numbered paragraphs stored with paragraphStyle information.\n",
    "## After adding paragraphs, update style with the style stored in the load paragraphs information.\n",
    "\n",
    "# Feature 2. Store bullet point styles and re-apply. \n",
    "## Find all paragraphs that contain bullet points./\n",
    "## Add these seperately as a paragraph and leave a reference in the paragraph list.\n",
    "## Render differently. \n",
    "## Still make it possible to select these.\n",
    "## After returning GPT revision of bullet points, store somwhere else.\n",
    "\n",
    "# General solution for feature 1 and 2\n",
    "## Create rendering function for the doc file. \n",
    "### Rendering function renders styles in Markdown.\n",
    "### Renders per paragraph so that sequential numbering is maintained. \n",
    "## Make sure that each line has a corresponding sequential ID. \n",
    "## CHECK - https://stackoverflow.com/questions/38430491/how-to-import-a-google-doc-to-python-app-as-markdown"
   ]
  },
  {
   "cell_type": "code",
   "execution_count": 60,
   "id": "35197dae",
   "metadata": {},
   "outputs": [
    {
     "name": "stdout",
     "output_type": "stream",
     "text": [
      "{'endIndex': 398,\n",
      " 'paragraph': {'bullet': {'listId': 'kix.s3uu8mow9td3',\n",
      "                          'textStyle': {'underline': False}},\n",
      "               'elements': [{'endIndex': 398,\n",
      "                             'startIndex': 383,\n",
      "                             'textRun': {'content': 'Bullet point 1\\n',\n",
      "                                         'textStyle': {}}}],\n",
      "               'paragraphStyle': {'direction': 'LEFT_TO_RIGHT',\n",
      "                                  'indentFirstLine': {'magnitude': 18,\n",
      "                                                      'unit': 'PT'},\n",
      "                                  'indentStart': {'magnitude': 36,\n",
      "                                                  'unit': 'PT'},\n",
      "                                  'namedStyleType': 'NORMAL_TEXT',\n",
      "                                  'spacingMode': 'COLLAPSE_LISTS'}},\n",
      " 'startIndex': 383}\n"
     ]
    }
   ],
   "source": [
    "index = 8\n",
    "text = doc.get('body').get('content')[index]\n",
    "pprint(text)"
   ]
  },
  {
   "cell_type": "code",
   "execution_count": 63,
   "id": "62ea586e",
   "metadata": {},
   "outputs": [
    {
     "data": {
      "text/plain": [
       "[{'index': 1,\n",
       "  'range': {'startIndex': 1, 'endIndex': 36},\n",
       "  'text': 'Conclusions system analysis report\\n',\n",
       "  'style': {'headingId': 'h.e77qt4ez1qmw',\n",
       "   'namedStyleType': 'TITLE',\n",
       "   'direction': 'LEFT_TO_RIGHT'},\n",
       "  'markdown': ''},\n",
       " {'index': 2,\n",
       "  'range': {'startIndex': 36, 'endIndex': 155},\n",
       "  'text': 'The two main most ambitious versions for a circular vision for the construction industry would comprise the following.\\n',\n",
       "  'style': {'namedStyleType': 'NORMAL_TEXT', 'direction': 'LEFT_TO_RIGHT'},\n",
       "  'markdown': ''},\n",
       " {'index': 3,\n",
       "  'range': {'startIndex': 155, 'endIndex': 156},\n",
       "  'text': '\\n',\n",
       "  'style': {'namedStyleType': 'NORMAL_TEXT', 'direction': 'LEFT_TO_RIGHT'},\n",
       "  'markdown': ''},\n",
       " {'index': 4,\n",
       "  'range': {'startIndex': 156, 'endIndex': 168},\n",
       "  'text': 'Bold header\\n',\n",
       "  'style': {'namedStyleType': 'NORMAL_TEXT', 'direction': 'LEFT_TO_RIGHT'},\n",
       "  'markdown': ''},\n",
       " {'index': 5,\n",
       "  'range': {'startIndex': 168, 'endIndex': 211},\n",
       "  'text': 'Normal text accompanying the bold header. \\n',\n",
       "  'style': {'namedStyleType': 'NORMAL_TEXT', 'direction': 'LEFT_TO_RIGHT'},\n",
       "  'markdown': ''},\n",
       " {'index': 6,\n",
       "  'range': {'startIndex': 211, 'endIndex': 246},\n",
       "  'text': 'A zero-waste construction industry\\n',\n",
       "  'style': {'headingId': 'h.7gksm5bnvhlr',\n",
       "   'namedStyleType': 'HEADING_3',\n",
       "   'direction': 'LEFT_TO_RIGHT'},\n",
       "  'markdown': ''},\n",
       " {'index': 7,\n",
       "  'range': {'startIndex': 246, 'endIndex': 383},\n",
       "  'text': 'In this vision, all waste generated during both the construction process and the end-of-life of buildings is eliminated through re-use. \\n',\n",
       "  'style': {'namedStyleType': 'NORMAL_TEXT', 'direction': 'LEFT_TO_RIGHT'},\n",
       "  'markdown': ''},\n",
       " {'index': 8,\n",
       "  'range': {'startIndex': 383, 'endIndex': 398},\n",
       "  'text': 'Bullet point 1\\n',\n",
       "  'style': {'namedStyleType': 'NORMAL_TEXT',\n",
       "   'direction': 'LEFT_TO_RIGHT',\n",
       "   'spacingMode': 'COLLAPSE_LISTS',\n",
       "   'indentFirstLine': {'magnitude': 18, 'unit': 'PT'},\n",
       "   'indentStart': {'magnitude': 36, 'unit': 'PT'}},\n",
       "  'markdown': ''},\n",
       " {'index': 9,\n",
       "  'range': {'startIndex': 398, 'endIndex': 413},\n",
       "  'text': 'Bullet point 2\\n',\n",
       "  'style': {'namedStyleType': 'NORMAL_TEXT',\n",
       "   'direction': 'LEFT_TO_RIGHT',\n",
       "   'spacingMode': 'COLLAPSE_LISTS',\n",
       "   'indentFirstLine': {'magnitude': 18, 'unit': 'PT'},\n",
       "   'indentStart': {'magnitude': 36, 'unit': 'PT'}},\n",
       "  'markdown': ''},\n",
       " {'index': 10,\n",
       "  'range': {'startIndex': 413, 'endIndex': 428},\n",
       "  'text': 'Bullet point 3\\n',\n",
       "  'style': {'namedStyleType': 'NORMAL_TEXT',\n",
       "   'direction': 'LEFT_TO_RIGHT',\n",
       "   'spacingMode': 'COLLAPSE_LISTS',\n",
       "   'indentFirstLine': {'magnitude': 18, 'unit': 'PT'},\n",
       "   'indentStart': {'magnitude': 36, 'unit': 'PT'}},\n",
       "  'markdown': ''},\n",
       " {'index': 11,\n",
       "  'range': {'startIndex': 428, 'endIndex': 429},\n",
       "  'text': '\\n',\n",
       "  'style': {'namedStyleType': 'NORMAL_TEXT', 'direction': 'LEFT_TO_RIGHT'},\n",
       "  'markdown': ''},\n",
       " {'index': 12,\n",
       "  'range': {'startIndex': 429, 'endIndex': 430},\n",
       "  'text': '\\n',\n",
       "  'style': {'namedStyleType': 'NORMAL_TEXT', 'direction': 'LEFT_TO_RIGHT'},\n",
       "  'markdown': ''}]"
      ]
     },
     "execution_count": 63,
     "metadata": {},
     "output_type": "execute_result"
    }
   ],
   "source": [
    "gd.get_paragraphs_with_index(doc)"
   ]
  }
 ],
 "metadata": {
  "kernelspec": {
   "display_name": "Python 3 (ipykernel)",
   "language": "python",
   "name": "python3"
  },
  "language_info": {
   "codemirror_mode": {
    "name": "ipython",
    "version": 3
   },
   "file_extension": ".py",
   "mimetype": "text/x-python",
   "name": "python",
   "nbconvert_exporter": "python",
   "pygments_lexer": "ipython3",
   "version": "3.10.6"
  },
  "toc": {
   "base_numbering": 1,
   "nav_menu": {},
   "number_sections": true,
   "sideBar": true,
   "skip_h1_title": false,
   "title_cell": "Table of Contents",
   "title_sidebar": "Contents",
   "toc_cell": false,
   "toc_position": {},
   "toc_section_display": true,
   "toc_window_display": false
  }
 },
 "nbformat": 4,
 "nbformat_minor": 5
}
