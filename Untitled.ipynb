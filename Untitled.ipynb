{
 "cells": [
  {
   "cell_type": "code",
   "execution_count": 2,
   "id": "e15407c2",
   "metadata": {},
   "outputs": [],
   "source": [
    "%load_ext autoreload\n",
    "%autoreload 2"
   ]
  },
  {
   "cell_type": "code",
   "execution_count": 25,
   "id": "b6ec452c",
   "metadata": {},
   "outputs": [],
   "source": [
    "from utils.googledocs import authorize, update_document\n",
    "from utils.postrequests import create_insert_request"
   ]
  },
  {
   "cell_type": "code",
   "execution_count": 21,
   "id": "801bf088",
   "metadata": {},
   "outputs": [],
   "source": [
    "def create_doc(title = 'My Document'):\n",
    "    service = authorize('write')\n",
    "    body = {\n",
    "        'title': title,\n",
    "    }\n",
    "    doc = service.documents() \\\n",
    "        .create(body=body).execute()\n",
    "    return doc\n",
    "\n",
    "doc = create_doc()\n",
    "url = f\"https://docs.google.com/document/d/{doc.get('documentId')}\""
   ]
  },
  {
   "cell_type": "code",
   "execution_count": 28,
   "id": "1541d5f1",
   "metadata": {},
   "outputs": [],
   "source": [
    "def compose_doc(title = 'My Document', paragraphs = []):\n",
    "    '''\n",
    "    Composes a document with the given title and paragraphs. Returns the document ID.\n",
    "    Works backwards from the end of the document to the beginning.\n",
    "    '''\n",
    "\n",
    "    doc = create_doc(title)\n",
    "    document_id = doc.get('documentId')\n",
    "\n",
    "    requests = []\n",
    "    for paragraph in reversed(paragraphs):\n",
    "        requests.append(create_insert_request(1, paragraph +'\\n'))\n",
    "    update_document(document_id, requests)\n",
    "\n",
    "    return document_id"
   ]
  },
  {
   "cell_type": "code",
   "execution_count": 29,
   "id": "aa0c2cba",
   "metadata": {},
   "outputs": [
    {
     "name": "stdout",
     "output_type": "stream",
     "text": [
      "success\n"
     ]
    },
    {
     "data": {
      "text/plain": [
       "'Download the copy-edit [here](https://docs.google.com/document/d/1VzXkdLv9RmGANPxRJluwygMXPB0lo1DfztF7xmpG32c/edit#).'"
      ]
     },
     "execution_count": 29,
     "metadata": {},
     "output_type": "execute_result"
    }
   ],
   "source": [
    "paragraphs = ['Test1. This is sone text yeay', 'This some other text yeah']\n",
    "new_id = compose_doc(paragraphs = paragraphs)\n",
    "\n",
    "f\"Download the copy-edit [here](https://docs.google.com/document/d/{new_id}/edit#).\""
   ]
  }
 ],
 "metadata": {
  "kernelspec": {
   "display_name": "Python 3 (ipykernel)",
   "language": "python",
   "name": "python3"
  },
  "language_info": {
   "codemirror_mode": {
    "name": "ipython",
    "version": 3
   },
   "file_extension": ".py",
   "mimetype": "text/x-python",
   "name": "python",
   "nbconvert_exporter": "python",
   "pygments_lexer": "ipython3",
   "version": "3.10.6"
  },
  "toc": {
   "base_numbering": 1,
   "nav_menu": {},
   "number_sections": true,
   "sideBar": true,
   "skip_h1_title": false,
   "title_cell": "Table of Contents",
   "title_sidebar": "Contents",
   "toc_cell": false,
   "toc_position": {},
   "toc_section_display": true,
   "toc_window_display": false
  }
 },
 "nbformat": 4,
 "nbformat_minor": 5
}
